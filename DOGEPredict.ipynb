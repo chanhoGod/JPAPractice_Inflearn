{
  "nbformat": 4,
  "nbformat_minor": 0,
  "metadata": {
    "colab": {
      "name": "DOGEPredict.ipynb",
      "provenance": [],
      "collapsed_sections": [],
      "authorship_tag": "ABX9TyOAIoAKDFXuZ/bpXk753R2T",
      "include_colab_link": true
    },
    "kernelspec": {
      "name": "python3",
      "display_name": "Python 3"
    },
    "language_info": {
      "name": "python"
    }
  },
  "cells": [
    {
      "cell_type": "markdown",
      "metadata": {
        "id": "view-in-github",
        "colab_type": "text"
      },
      "source": [
        "<a href=\"https://colab.research.google.com/github/chanhoGod/JPAPractice_Inflearn/blob/master/DOGEPredict.ipynb\" target=\"_parent\"><img src=\"https://colab.research.google.com/assets/colab-badge.svg\" alt=\"Open In Colab\"/></a>"
      ]
    },
    {
      "cell_type": "code",
      "metadata": {
        "id": "RWQTaYchgOQP"
      },
      "source": [
        "import matplotlib.pyplot as plt\n",
        "import pandas as pd\n",
        "import numpy as np\n",
        "import requests\n",
        "import matplotlib.ticker as ticker\n",
        "from tensorflow.keras.layers import Dense, LSTM\n",
        "from tensorflow.keras.models import Sequential\n",
        "from datetime import datetime, timedelta"
      ],
      "execution_count": 32,
      "outputs": []
    },
    {
      "cell_type": "code",
      "metadata": {
        "id": "RCCw8TqsgUS8"
      },
      "source": [
        "arr = []\n",
        "for i in range(2):\n",
        "    today = datetime.today() - timedelta(i * 30)  #6시간 간격 2달치 데이터를 가져오기 위해서 api요청으로 180번(30일) * 2번을 요청한다.\n",
        "    req = requests.get('https://crix-api-endpoint.upbit.com/v1/crix/candles/minutes/240?code=CRIX.UPBIT.KRW-DOGE&count=180&to='+ today.strftime(\"%Y-%m-%d\")+'%2024:00:00')\n",
        "    arr += req.json()        \n",
        "\n",
        "#json 데이터화\n",
        "arr.reverse()                                     #최신 데이터부터 먼저 들어오기 때문에 순서를 역순으로 바꿔준다.\n",
        "df = pd.DataFrame(arr)                            #pandas.dataFrame으로 가공하기 편한 데이터로 만들어준다.\n",
        "print(df)\n"
      ],
      "execution_count": null,
      "outputs": []
    },
    {
      "cell_type": "code",
      "metadata": {
        "id": "gFGyGy_igrFj"
      },
      "source": [
        "#데이터 자르기\n",
        "df['candleDateTimeKst'] = df['candleDateTimeKst'].str.slice(start=0,stop=19).to_numpy() #string으로 넘어온 시간 데이터를 보기 편하게 잘라준다.\n",
        "datachart = df['tradePrice']                                                            #y축에 사용할 수 있도록 가격데이터를 뽑아낸다. 추가적인 가공이 필요하다.\n",
        "time = df['candleDateTimeKst'].to_numpy()                                               #x축에 사용할 수 있도록 시간데이터도 뽑아내준다.\n",
        "length = len(datachart)-1\n",
        "\n",
        "\n",
        "plt.figure(figsize=(24, 16))                                                            #화면 크기 지정, 실제 데이터의 형태를 그래프로 확인한다.\n",
        "plt.plot(time, datachart)\n",
        "ax=plt.gca()\n",
        "ax.xaxis.set_major_locator(ticker.MultipleLocator(60))                                  #X축에 사용될 시간 데이터의 간격을 설정해줬다.\n",
        "plt.xlabel('time')\n",
        "plt.ylabel('price')"
      ],
      "execution_count": null,
      "outputs": []
    },
    {
      "cell_type": "code",
      "metadata": {
        "id": "Mu7I6XiRiE7B"
      },
      "source": [
        "window_size = 6\n",
        "\n",
        "def seq2dataset(datachart,window_size):                               #Lecture12 Window_Size 데이터 나누기 참고\n",
        "    X = []; Y = []\n",
        "    for i in range(len(datachart) - window_size):\n",
        "        X.append(np.array(datachart.iloc[i:i+window_size]))\n",
        "        Y.append(np.array(datachart.iloc[i+window_size]))\n",
        "    return np.array(X), np.array(Y)\n",
        "\n",
        "\n",
        "\n",
        "X, Y = seq2dataset(datachart,window_size);\n",
        "X = X.reshape((X.shape[0], X.shape[1], 1))"
      ],
      "execution_count": 35,
      "outputs": []
    },
    {
      "cell_type": "code",
      "metadata": {
        "id": "WQjdv7kBmOoR"
      },
      "source": [
        "split = int(len(X)*0.7)                           #학습데이터(70%)와 테스트데이터(30%)로  나눔\n",
        "x_train=X[0:split]; y_train=Y[0:split]\n",
        "x_test=X[split:]; y_test=Y[split:]\n",
        "\n",
        "model=Sequential()                                #학습모델 구축\n",
        "model.add(LSTM(128,activation='relu',input_shape=(x_train.shape[1], x_train.shape[2], ))) #활성함수로는 relu 사용\n",
        "model.add(Dense(1))\n",
        "model.compile(loss='mae', optimizer='adam', metrics=['mae']) #mae를 사용해야 특이값에 덜 민감하다.\n",
        "model.fit(x_train, y_train, epochs=30,batch_size=32,validation_data=(x_test,y_test),verbose=2)\n",
        "model.summary()\n",
        "\n",
        "#예측\n",
        "train_predict = model.predict(x_train)\n",
        "test_predict = model.predict(x_test)\n",
        "\n",
        "\n",
        "#실제 데이터\n",
        "plt.figure(figsize=(24, 16))\n",
        "plt.plot(time, datachart)\n",
        "\n",
        "#훈련 결과\n",
        "split_tp = split + window_size\n",
        "plt.plot(np.arange(window_size, split_tp, 1), train_predict, color='g')\n",
        "\n",
        "#테스트 결과\n",
        "plt.plot(np.arange(split_tp, split_tp + len(test_predict), 1), test_predict, color='r')\n",
        "\n",
        "plt.ylabel('Price')\n",
        "ax=plt.gca()\n",
        "ax.xaxis.set_major_locator(ticker.MultipleLocator(60))\n",
        "plt.show()\n",
        "\n",
        "#일부 데이터 확대\n",
        "x_range = range(length - 15,length + 1)\n",
        "plt.figure(figsize=(24, 16))\n",
        "plt.plot(time[x_range], datachart[x_range],color='red')\n",
        "plt.plot(time[x_range], test_predict[range(len(test_predict) - 16 ,len(test_predict))], color='blue')\n",
        "ax=plt.gca()\n",
        "ax.xaxis.set_major_locator(ticker.MultipleLocator(2))\n",
        "plt.legend(['True prices', 'Predicted prices'], loc='best')\n",
        "plt.show()"
      ],
      "execution_count": null,
      "outputs": []
    },
    {
      "cell_type": "code",
      "metadata": {
        "colab": {
          "base_uri": "https://localhost:8080/"
        },
        "id": "UoKvTmh6kUjP",
        "outputId": "4c434fbe-5a53-4241-c73f-ab65fe5f057c"
      },
      "source": [
        "now = time[time.size - 1]\n",
        "print(\"최근 시간 데이터 : \", now)\n",
        "\n",
        "\n",
        "newdata = np.array(datachart.iloc[length + 1 - window_size:length+1])   #미래 예측을 위한 기존 데이터 추출\n",
        "newdata = newdata.reshape((1, newdata.shape[0], 1))                     #3차원 데이터 변환 데이터 배열이 1개, 특징이 window_size개\n",
        "\n",
        "newPredict = model.predict(newdata)\n",
        "print(\"최근 가격 데이터 : \", datachart[length])\n",
        "print(\"4시간 뒤 가격 예상 : \", newPredict)\n",
        "sub = round(newPredict[0][0] - datachart[length], 2)\n",
        "rate = round((newPredict[0][0]/datachart[length] - 1) * 100, 2)\n",
        "if(sub > 0):\n",
        "  print(\"예상 시간별 손익 : \", \"+\"+ str(sub))\n",
        "else:\n",
        "  print(\"예상 시간별 손익 : \", str(sub))\n",
        "print(\"예상 수익률 : \", str(rate))"
      ],
      "execution_count": 46,
      "outputs": [
        {
          "output_type": "stream",
          "text": [
            "최근 시간 데이터 :  2021-06-04T13:00:00\n",
            "최근 가격 데이터 :  429.0\n",
            "4시간 뒤 가격 예상 :  [[433.19727]]\n",
            "예상 시간별 손익 :  +4.2\n",
            "예상 수익률 :  0.98\n"
          ],
          "name": "stdout"
        }
      ]
    }
  ]
}